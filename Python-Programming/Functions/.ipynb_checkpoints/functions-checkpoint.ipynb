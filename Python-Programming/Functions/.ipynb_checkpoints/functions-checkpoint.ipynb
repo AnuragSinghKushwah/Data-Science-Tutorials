{
 "cells": [
  {
   "cell_type": "code",
   "execution_count": 12,
   "metadata": {},
   "outputs": [
    {
     "name": "stdout",
     "output_type": "stream",
     "text": [
      "sum :  30\n"
     ]
    }
   ],
   "source": [
    "# Function Having no input parameter\n",
    "a=10\n",
    "b=20\n",
    "def sum_of_two():\n",
    "    sum = a+b\n",
    "    print(\"sum : \",sum)\n",
    "sum_of_two()"
   ]
  },
  {
   "cell_type": "code",
   "execution_count": 13,
   "metadata": {},
   "outputs": [
    {
     "name": "stdout",
     "output_type": "stream",
     "text": [
      "sum :  30\n"
     ]
    }
   ],
   "source": [
    "# Function Having Required Parameters\n",
    "def sum_of_two(a,b):\n",
    "    sum = a+b\n",
    "    print(\"sum : \",sum)\n",
    "a=10\n",
    "b=20\n",
    "sum_of_two(a,b)"
   ]
  },
  {
   "cell_type": "code",
   "execution_count": 14,
   "metadata": {},
   "outputs": [
    {
     "name": "stdout",
     "output_type": "stream",
     "text": [
      "sum :  30\n",
      "sum :  20\n"
     ]
    }
   ],
   "source": [
    "# Function having KeyWord Parameters\n",
    "def sum_of_two(a,b):\n",
    "    sum = a+b\n",
    "    print(\"sum : \",sum)\n",
    "\n",
    "sum_of_two(a=10,b=20)\n",
    "sum_of_two(a=5,b=15)"
   ]
  },
  {
   "cell_type": "code",
   "execution_count": 15,
   "metadata": {},
   "outputs": [
    {
     "name": "stdout",
     "output_type": "stream",
     "text": [
      "sum :  30\n",
      "sum :  55\n"
     ]
    }
   ],
   "source": [
    "# Function having Default Parameters\n",
    "def sum_of_two(a,b=50):\n",
    "    sum=a+b\n",
    "    print(\"sum : \",sum)\n",
    "    \n",
    "sum_of_two(10,20)\n",
    "sum_of_two(5)"
   ]
  },
  {
   "cell_type": "code",
   "execution_count": 17,
   "metadata": {},
   "outputs": [
    {
     "name": "stdout",
     "output_type": "stream",
     "text": [
      "sum :  60\n",
      "sum :  220\n"
     ]
    }
   ],
   "source": [
    "# Function having Variable Length Parameters\n",
    "def sum_of_many(a,*b):\n",
    "    sum = a\n",
    "    for i in b:\n",
    "        sum+=i\n",
    "    print(\"sum : \",sum)\n",
    "sum_of_many(10,20,30)\n",
    "sum_of_many(10,20,30,40,50,70)"
   ]
  },
  {
   "cell_type": "code",
   "execution_count": null,
   "metadata": {
    "collapsed": true
   },
   "outputs": [],
   "source": []
  }
 ],
 "metadata": {
  "kernelspec": {
   "display_name": "Python 3",
   "language": "python",
   "name": "python3"
  },
  "language_info": {
   "codemirror_mode": {
    "name": "ipython",
    "version": 3
   },
   "file_extension": ".py",
   "mimetype": "text/x-python",
   "name": "python",
   "nbconvert_exporter": "python",
   "pygments_lexer": "ipython3",
   "version": "3.6.2"
  }
 },
 "nbformat": 4,
 "nbformat_minor": 1
}
