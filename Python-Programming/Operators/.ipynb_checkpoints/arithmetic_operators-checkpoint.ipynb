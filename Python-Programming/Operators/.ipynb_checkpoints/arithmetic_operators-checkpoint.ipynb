{
 "cells": [
  {
   "cell_type": "code",
   "execution_count": 1,
   "metadata": {},
   "outputs": [
    {
     "name": "stdout",
     "output_type": "stream",
     "text": [
      "postive variable a :  10\n",
      "negative variable b :  -20\n"
     ]
    }
   ],
   "source": [
    "# Arithmetic Operators in Python are th Operators Used For Basic and Advanced Mathematical Operations\n",
    "a = 10\n",
    "b = 20\n",
    "print(\"postive variable a : \",+a)\n",
    "print(\"negative variable b : \",-b)"
   ]
  },
  {
   "cell_type": "code",
   "execution_count": 3,
   "metadata": {},
   "outputs": [
    {
     "name": "stdout",
     "output_type": "stream",
     "text": [
      "sum of 10 and 20 is 30\n"
     ]
    }
   ],
   "source": [
    "# Addition Operator : \"+\"\n",
    "c = a+b\n",
    "print(\"sum of {} and {} is {}\".format(a,b,c))"
   ]
  },
  {
   "cell_type": "code",
   "execution_count": 4,
   "metadata": {},
   "outputs": [
    {
     "name": "stdout",
     "output_type": "stream",
     "text": [
      "Subtraction of 20 from 10 is : \n"
     ]
    }
   ],
   "source": [
    "# Subtraction Operator : \"-\"\n",
    "d = b-a\n",
    "print(\"Subtraction of {} from {} is : \".format(b,a,d))"
   ]
  },
  {
   "cell_type": "code",
   "execution_count": 5,
   "metadata": {},
   "outputs": [
    {
     "name": "stdout",
     "output_type": "stream",
     "text": [
      "Multiplication of 10 and 20 is 200\n"
     ]
    }
   ],
   "source": [
    "# Multiplication Operator : \"*\"\n",
    "e = a*b\n",
    "print(\"Multiplication of {} and {} is {}\".format(a,b,e))"
   ]
  },
  {
   "cell_type": "code",
   "execution_count": 6,
   "metadata": {},
   "outputs": [
    {
     "name": "stdout",
     "output_type": "stream",
     "text": [
      "Division of 20 by 10 is 2.0\n"
     ]
    }
   ],
   "source": [
    "# Division Operator : \"/\"\n",
    "f = b/a\n",
    "print(\"Division of {} by {} is {}\".format(b,a,f))"
   ]
  },
  {
   "cell_type": "code",
   "execution_count": 7,
   "metadata": {},
   "outputs": [
    {
     "name": "stdout",
     "output_type": "stream",
     "text": [
      "Modulus Division of 20 by 10 is 0\n"
     ]
    }
   ],
   "source": [
    "# Modulus Divison Operator : \"%\"\n",
    "g = b%a\n",
    "print(\"Modulus Division of {} by {} is {}\".format(b, a, g))"
   ]
  },
  {
   "cell_type": "code",
   "execution_count": 8,
   "metadata": {},
   "outputs": [
    {
     "name": "stdout",
     "output_type": "stream",
     "text": [
      "Exponential Power of 10 upto 20 is 100000000000000000000\n"
     ]
    }
   ],
   "source": [
    "# Exponential Power Operator : \"**\"\n",
    "h = a**b\n",
    "print(\"Exponential Power of {} upto {} is {}\".format(a,b,h))"
   ]
  },
  {
   "cell_type": "code",
   "execution_count": null,
   "metadata": {
    "collapsed": true
   },
   "outputs": [],
   "source": []
  }
 ],
 "metadata": {
  "kernelspec": {
   "display_name": "Python 3",
   "language": "python",
   "name": "python3"
  },
  "language_info": {
   "codemirror_mode": {
    "name": "ipython",
    "version": 3
   },
   "file_extension": ".py",
   "mimetype": "text/x-python",
   "name": "python",
   "nbconvert_exporter": "python",
   "pygments_lexer": "ipython3",
   "version": "3.6.2"
  }
 },
 "nbformat": 4,
 "nbformat_minor": 2
}
