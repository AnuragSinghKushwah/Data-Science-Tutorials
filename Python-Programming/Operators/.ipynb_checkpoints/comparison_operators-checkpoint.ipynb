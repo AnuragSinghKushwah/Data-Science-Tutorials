{
 "cells": [
  {
   "cell_type": "code",
   "execution_count": 1,
   "metadata": {},
   "outputs": [
    {
     "name": "stdout",
     "output_type": "stream",
     "text": [
      "a :  10\n",
      "b :  20\n"
     ]
    }
   ],
   "source": [
    "# Comparison Operators are used in order to compare different variables\n",
    "# The different kind of comparison operators are \">\",\"<\",,==\",\">=\",\"!=\"\n",
    "a = 10\n",
    "b = 20\n",
    "print(\"a : \",a)\n",
    "print(\"b : \",b)"
   ]
  },
  {
   "cell_type": "code",
   "execution_count": 2,
   "metadata": {},
   "outputs": [
    {
     "name": "stdout",
     "output_type": "stream",
     "text": [
      "False\n"
     ]
    }
   ],
   "source": [
    "# Equal to Operator (Compare two or more variable and return True if the variables have same value or return False)\n",
    "print(a==b)"
   ]
  },
  {
   "cell_type": "code",
   "execution_count": 4,
   "metadata": {},
   "outputs": [
    {
     "name": "stdout",
     "output_type": "stream",
     "text": [
      "True\n"
     ]
    }
   ],
   "source": [
    "# Not Equal To Operator (Compare two or more variable and return True if the variables dont have same value else return False)\n",
    "print(a!=b)"
   ]
  },
  {
   "cell_type": "code",
   "execution_count": 6,
   "metadata": {},
   "outputs": [
    {
     "name": "stdout",
     "output_type": "stream",
     "text": [
      "a > b :  False\n",
      "a < b :  True\n"
     ]
    }
   ],
   "source": [
    "# Less Then (Compare a value from second value return True is first value is Less then the second value or return False)\n",
    "print(\"a > b : \", a>b)\n",
    "print(\"a < b : \", a<b)"
   ]
  },
  {
   "cell_type": "code",
   "execution_count": null,
   "metadata": {
    "collapsed": true
   },
   "outputs": [],
   "source": []
  }
 ],
 "metadata": {
  "kernelspec": {
   "display_name": "Python 3",
   "language": "python",
   "name": "python3"
  },
  "language_info": {
   "codemirror_mode": {
    "name": "ipython",
    "version": 3
   },
   "file_extension": ".py",
   "mimetype": "text/x-python",
   "name": "python",
   "nbconvert_exporter": "python",
   "pygments_lexer": "ipython3",
   "version": "3.6.2"
  }
 },
 "nbformat": 4,
 "nbformat_minor": 2
}
