{
 "cells": [
  {
   "cell_type": "code",
   "execution_count": 5,
   "metadata": {},
   "outputs": [
    {
     "name": "stdout",
     "output_type": "stream",
     "text": [
      "x :  True\n",
      "y :  False\n"
     ]
    }
   ],
   "source": [
    "#Logical Operators in python are used while we are working with conditions.\n",
    "#Logical Operators consists of three operators i.e. AND, OR, NOT.\n",
    "x = True\n",
    "y = False\n",
    "print(\"x : \",x)\n",
    "print(\"y : \",y)"
   ]
  },
  {
   "cell_type": "code",
   "execution_count": 6,
   "metadata": {},
   "outputs": [
    {
     "name": "stdout",
     "output_type": "stream",
     "text": [
      "True and False is False\n"
     ]
    }
   ],
   "source": [
    "# The AND Operator works in between two conditions and returns True if both the Conditions are True else returns False.\n",
    "print(\"{} and {} is {}\".format(x,y, x and y))"
   ]
  },
  {
   "cell_type": "code",
   "execution_count": 7,
   "metadata": {},
   "outputs": [
    {
     "name": "stdout",
     "output_type": "stream",
     "text": [
      "True or False is True\n"
     ]
    }
   ],
   "source": [
    "# The OR Operator works in between two conditions and returns True if any of them is True else return False if both are False.\n",
    "print(\"{} or {} is {}\".format(x,y,x or y))"
   ]
  },
  {
   "cell_type": "code",
   "execution_count": 8,
   "metadata": {},
   "outputs": [
    {
     "name": "stdout",
     "output_type": "stream",
     "text": [
      "not of True is False\n"
     ]
    }
   ],
   "source": [
    "# The NOT Operator works with single condition and returns False if the condition is True and Vice Versa\n",
    "print(\"not of {} is {}\".format(x,not x))"
   ]
  },
  {
   "cell_type": "code",
   "execution_count": 9,
   "metadata": {},
   "outputs": [
    {
     "name": "stdout",
     "output_type": "stream",
     "text": [
      "not of False is True\n"
     ]
    }
   ],
   "source": [
    "print(\"not of {} is {}\".format(y,not y))"
   ]
  },
  {
   "cell_type": "code",
   "execution_count": null,
   "metadata": {
    "collapsed": true
   },
   "outputs": [],
   "source": []
  }
 ],
 "metadata": {
  "kernelspec": {
   "display_name": "Python 3",
   "language": "python",
   "name": "python3"
  },
  "language_info": {
   "codemirror_mode": {
    "name": "ipython",
    "version": 3
   },
   "file_extension": ".py",
   "mimetype": "text/x-python",
   "name": "python",
   "nbconvert_exporter": "python",
   "pygments_lexer": "ipython3",
   "version": "3.6.2"
  }
 },
 "nbformat": 4,
 "nbformat_minor": 2
}
