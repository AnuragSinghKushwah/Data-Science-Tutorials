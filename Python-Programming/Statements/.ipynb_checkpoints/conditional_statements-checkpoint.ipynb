{
 "cells": [
  {
   "cell_type": "code",
   "execution_count": 2,
   "metadata": {},
   "outputs": [
    {
     "name": "stdout",
     "output_type": "stream",
     "text": [
      "number is less then 15\n",
      "number is greater then 15\n"
     ]
    }
   ],
   "source": [
    "# Conditional Statements in Python\n",
    "def check_num(a):\n",
    "    if a<15:\n",
    "        print(\"number is less then 15\")\n",
    "    else:\n",
    "        print(\"number is greater then 15\")\n",
    "check_num(10)\n",
    "check_num(18)"
   ]
  },
  {
   "cell_type": "code",
   "execution_count": 3,
   "metadata": {},
   "outputs": [
    {
     "name": "stdout",
     "output_type": "stream",
     "text": [
      "number is less then 10\n",
      "number is in between 10 and 20\n",
      "number is greater then 20\n"
     ]
    }
   ],
   "source": [
    "# if, elif, else\n",
    "def check_num(a):\n",
    "    if a<10:\n",
    "        print(\"number is less then 10\")\n",
    "    elif 10<a<20:\n",
    "        print(\"number is in between 10 and 20\")\n",
    "    else:\n",
    "        print(\"number is greater then 20\")\n",
    "check_num(8)\n",
    "check_num(13)\n",
    "check_num(21)\n",
    "    "
   ]
  },
  {
   "cell_type": "code",
   "execution_count": null,
   "metadata": {
    "collapsed": true
   },
   "outputs": [],
   "source": []
  }
 ],
 "metadata": {
  "kernelspec": {
   "display_name": "Python 3",
   "language": "python",
   "name": "python3"
  },
  "language_info": {
   "codemirror_mode": {
    "name": "ipython",
    "version": 3
   },
   "file_extension": ".py",
   "mimetype": "text/x-python",
   "name": "python",
   "nbconvert_exporter": "python",
   "pygments_lexer": "ipython3",
   "version": "3.6.2"
  }
 },
 "nbformat": 4,
 "nbformat_minor": 1
}
