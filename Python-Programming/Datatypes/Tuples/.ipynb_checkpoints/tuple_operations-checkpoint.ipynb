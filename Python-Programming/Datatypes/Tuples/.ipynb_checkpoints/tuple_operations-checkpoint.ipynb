{
 "cells": [
  {
   "cell_type": "code",
   "execution_count": 1,
   "metadata": {},
   "outputs": [
    {
     "name": "stdout",
     "output_type": "stream",
     "text": [
      "tuple1 :  ()\n"
     ]
    }
   ],
   "source": [
    "# Creating a empty tuple\n",
    "tuple1 = ()\n",
    "print(\"tuple1 : \",tuple1)"
   ]
  },
  {
   "cell_type": "code",
   "execution_count": 5,
   "metadata": {},
   "outputs": [
    {
     "name": "stdout",
     "output_type": "stream",
     "text": [
      "tuple1 :  (1, 2, 3, 4, 5)\n",
      "tuple2 :  ('a', 'b', 1, 80000.0, {'name': 'john'})\n"
     ]
    }
   ],
   "source": [
    "# creating a tuple having items\n",
    "tuple1 = (1,2,3,4,5)\n",
    "print(\"tuple1 : \",tuple1)\n",
    "tuple2 = (\"a\",\"b\",1,8e4,{\"name\":\"john\"})\n",
    "print(\"tuple2 : \",tuple2)"
   ]
  },
  {
   "cell_type": "code",
   "execution_count": 10,
   "metadata": {},
   "outputs": [
    {
     "name": "stdout",
     "output_type": "stream",
     "text": [
      "Joined Tuple :  (1, 2, 3, 4, 5, 'a', 'b', 1, 80000.0, {'name': 'john'})\n"
     ]
    }
   ],
   "source": [
    "# Concatenating two tuples\n",
    "tuple3 = tuple1+tuple2\n",
    "print(\"Joined Tuple : \",tuple3)"
   ]
  },
  {
   "cell_type": "code",
   "execution_count": 11,
   "metadata": {},
   "outputs": [
    {
     "name": "stdout",
     "output_type": "stream",
     "text": [
      "Deleted Tuple :  (1, 2, 3, 4, 5, 'a', 'b', 1, 80000.0, {'name': 'john'})\n"
     ]
    }
   ],
   "source": [
    "# Deleting Tuple\n",
    "# del tuple3\n",
    "print(\"Deleted Tuple : \",tuple3) # It will throw error is tuple is deleted already"
   ]
  },
  {
   "cell_type": "code",
   "execution_count": 15,
   "metadata": {},
   "outputs": [
    {
     "name": "stdout",
     "output_type": "stream",
     "text": [
      "3\n",
      "(4, 5, 'a')\n",
      "(1, 2, 3, 4, 5, 'a')\n"
     ]
    }
   ],
   "source": [
    "# Indexing Tuple Values i.e. same as of list\n",
    "print(tuple3[2])\n",
    "print(tuple3[3:6])\n",
    "print(tuple3[:-4])"
   ]
  },
  {
   "cell_type": "code",
   "execution_count": 18,
   "metadata": {},
   "outputs": [
    {
     "name": "stdout",
     "output_type": "stream",
     "text": [
      "max value from tuple1 :  5\n",
      "min value from tuple1 :  1\n"
     ]
    }
   ],
   "source": [
    "# Finding Maximum and Minimum from a Tuple\n",
    "print(\"max value from tuple1 : \",max(tuple1))\n",
    "print(\"min value from tuple1 : \",min(tuple1))"
   ]
  },
  {
   "cell_type": "code",
   "execution_count": 19,
   "metadata": {},
   "outputs": [
    {
     "ename": "TypeError",
     "evalue": "'tuple' object does not support item assignment",
     "output_type": "error",
     "traceback": [
      "\u001b[1;31m---------------------------------------------------------------------------\u001b[0m",
      "\u001b[1;31mTypeError\u001b[0m                                 Traceback (most recent call last)",
      "\u001b[1;32m<ipython-input-19-dc90b9d2ea2a>\u001b[0m in \u001b[0;36m<module>\u001b[1;34m()\u001b[0m\n\u001b[0;32m      1\u001b[0m \u001b[1;31m# As Tuples are immutables we are not able to update values inside a tuple it will throw error for ex.\u001b[0m\u001b[1;33m\u001b[0m\u001b[1;33m\u001b[0m\u001b[0m\n\u001b[1;32m----> 2\u001b[1;33m \u001b[0mtuple1\u001b[0m\u001b[1;33m[\u001b[0m\u001b[1;36m3\u001b[0m\u001b[1;33m]\u001b[0m\u001b[1;33m=\u001b[0m\u001b[1;36m9\u001b[0m\u001b[1;33m\u001b[0m\u001b[0m\n\u001b[0m",
      "\u001b[1;31mTypeError\u001b[0m: 'tuple' object does not support item assignment"
     ]
    }
   ],
   "source": [
    "# As Tuples are immutables we are not able to update values inside a tuple it will throw error for ex.\n",
    "tuple1[3]=9"
   ]
  },
  {
   "cell_type": "code",
   "execution_count": null,
   "metadata": {
    "collapsed": true
   },
   "outputs": [],
   "source": []
  }
 ],
 "metadata": {
  "kernelspec": {
   "display_name": "Python 3",
   "language": "python",
   "name": "python3"
  },
  "language_info": {
   "codemirror_mode": {
    "name": "ipython",
    "version": 3
   },
   "file_extension": ".py",
   "mimetype": "text/x-python",
   "name": "python",
   "nbconvert_exporter": "python",
   "pygments_lexer": "ipython3",
   "version": "3.6.2"
  }
 },
 "nbformat": 4,
 "nbformat_minor": 2
}
