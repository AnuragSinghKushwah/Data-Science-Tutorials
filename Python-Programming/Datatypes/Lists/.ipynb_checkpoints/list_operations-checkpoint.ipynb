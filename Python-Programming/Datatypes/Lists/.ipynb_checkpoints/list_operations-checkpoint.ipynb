{
 "cells": [
  {
   "cell_type": "code",
   "execution_count": 95,
   "metadata": {},
   "outputs": [
    {
     "name": "stdout",
     "output_type": "stream",
     "text": [
      "list1 :  [10, 1, 24, 35]\n",
      "list2 :  ['a', 'b', 'c', 'd']\n",
      "list3 :  [3, 234, 'a', 140.09, {'name': 'john', 'surname': 'Doe'}, (10, 13)]\n"
     ]
    }
   ],
   "source": [
    "list1 = [10,1,24,35]\n",
    "list2 = [\"a\",\"b\",\"c\",\"d\"]\n",
    "list3 = [3,234,\"a\",140.09,{\"name\":\"john\",\"surname\":\"Doe\"},(10,13)]\n",
    "print(\"list1 : \",list1)\n",
    "print(\"list2 : \",list2)\n",
    "print(\"list3 : \",list3)"
   ]
  },
  {
   "cell_type": "code",
   "execution_count": 96,
   "metadata": {},
   "outputs": [
    {
     "name": "stdout",
     "output_type": "stream",
     "text": [
      "[10, 1, 24, 35, 'a', 'b', 'c', 'd']\n"
     ]
    }
   ],
   "source": [
    "# Adding Two Lists\n",
    "print(list1+list2)"
   ]
  },
  {
   "cell_type": "code",
   "execution_count": 97,
   "metadata": {},
   "outputs": [
    {
     "name": "stdout",
     "output_type": "stream",
     "text": [
      "1\n",
      "b\n",
      "140.09\n"
     ]
    }
   ],
   "source": [
    "# Getting List Items\n",
    "print(list1[1])\n",
    "print(list2[1])\n",
    "print(list3[3])"
   ]
  },
  {
   "cell_type": "code",
   "execution_count": 98,
   "metadata": {},
   "outputs": [
    {
     "name": "stdout",
     "output_type": "stream",
     "text": [
      "list1 :  [10, '3', 24, 35]\n",
      "list2 :  ['a', 140.09, 'c', 'd']\n",
      "list3 :  [3, 'Howdy, Admin', 'a', 140.09, {'name': 'john', 'surname': 'Doe'}, (10, 13)]\n"
     ]
    }
   ],
   "source": [
    "# Over Writing List Items\n",
    "list1[1]=\"3\"\n",
    "list2[1]=140.09\n",
    "list3[1]=\"Howdy, Admin\"\n",
    "print(\"list1 : \",list1)\n",
    "print(\"list2 : \",list2)\n",
    "print(\"list3 : \",list3)"
   ]
  },
  {
   "cell_type": "code",
   "execution_count": 99,
   "metadata": {},
   "outputs": [
    {
     "name": "stdout",
     "output_type": "stream",
     "text": [
      "list1 :  [10, 24, 35]\n",
      "list2 :  ['a', 'c', 'd']\n",
      "list3 :  [3, 'a', 140.09, {'name': 'john', 'surname': 'Doe'}, (10, 13)]\n"
     ]
    }
   ],
   "source": [
    "# Deleting Items from List\n",
    "del list1[1]\n",
    "del list2[1]\n",
    "del list3[1]\n",
    "print(\"list1 : \",list1)\n",
    "print(\"list2 : \",list2)\n",
    "print(\"list3 : \",list3)"
   ]
  },
  {
   "cell_type": "code",
   "execution_count": 100,
   "metadata": {},
   "outputs": [
    {
     "name": "stdout",
     "output_type": "stream",
     "text": [
      "list1 :  [10, 24, 35, 4]\n",
      "list2 :  ['a', 'c', 'd', 9800.0]\n",
      "list3 :  [3, 'a', 140.09, {'name': 'john', 'surname': 'Doe'}, (10, 13), 'something good']\n"
     ]
    }
   ],
   "source": [
    "# Adding Items to list\n",
    "list1.append(4)\n",
    "list2.append(98e2)\n",
    "list3.append(\"something good\")\n",
    "print(\"list1 : \",list1)\n",
    "print(\"list2 : \",list2)\n",
    "print(\"list3 : \",list3)"
   ]
  },
  {
   "cell_type": "code",
   "execution_count": 101,
   "metadata": {},
   "outputs": [
    {
     "name": "stdout",
     "output_type": "stream",
     "text": [
      "length of list1 :  4\n",
      "length of list3 :  6\n"
     ]
    }
   ],
   "source": [
    "# Finding Length of a List\n",
    "print(\"length of list1 : \",len(list1))\n",
    "print(\"length of list3 : \",len(list3))"
   ]
  },
  {
   "cell_type": "code",
   "execution_count": 102,
   "metadata": {},
   "outputs": [
    {
     "name": "stdout",
     "output_type": "stream",
     "text": [
      "[1, 1, 1, 1, 1, 1, 1, 1, 1, 1]\n"
     ]
    }
   ],
   "source": [
    "# Creating a Repition List\n",
    "print([1]*10)"
   ]
  },
  {
   "cell_type": "code",
   "execution_count": 103,
   "metadata": {},
   "outputs": [
    {
     "name": "stdout",
     "output_type": "stream",
     "text": [
      "True\n"
     ]
    }
   ],
   "source": [
    "# Checking if a item exists in a list\n",
    "print(24 in list1)"
   ]
  },
  {
   "cell_type": "code",
   "execution_count": 104,
   "metadata": {},
   "outputs": [
    {
     "name": "stdout",
     "output_type": "stream",
     "text": [
      "[24, 35, 4]\n",
      "4\n",
      "[35, 4]\n"
     ]
    }
   ],
   "source": [
    "# Slicing Lists\n",
    "print(list1[1:])\n",
    "print(list1[-1])\n",
    "print(list1[2:])"
   ]
  },
  {
   "cell_type": "code",
   "execution_count": 105,
   "metadata": {},
   "outputs": [
    {
     "name": "stdout",
     "output_type": "stream",
     "text": [
      "35\n",
      "4\n"
     ]
    }
   ],
   "source": [
    "# Finding Maximum and Minimum Values from\n",
    "print(max(list1))\n",
    "print(min(list1))"
   ]
  },
  {
   "cell_type": "code",
   "execution_count": 106,
   "metadata": {},
   "outputs": [
    {
     "name": "stdout",
     "output_type": "stream",
     "text": [
      "list4 :  [1, 2, 3, 4, 4]\n"
     ]
    }
   ],
   "source": [
    "# Converting Tuple to List\n",
    "list4 = list((1,2,3,4,4))\n",
    "print(\"list4 : \",list4)"
   ]
  },
  {
   "cell_type": "code",
   "execution_count": 107,
   "metadata": {},
   "outputs": [
    {
     "name": "stdout",
     "output_type": "stream",
     "text": [
      "2\n"
     ]
    }
   ],
   "source": [
    "# Counting Items from a List\n",
    "print(list4.count(4))"
   ]
  },
  {
   "cell_type": "code",
   "execution_count": 108,
   "metadata": {},
   "outputs": [
    {
     "name": "stdout",
     "output_type": "stream",
     "text": [
      "list5 :  None\n",
      "list1 :  [10, 24, 35, 4, 1, 2, 3, 4, 4]\n"
     ]
    }
   ],
   "source": [
    "# Extending a list with new list\n",
    "list5 = list1.extend(list4)\n",
    "print(\"list5 : \",list5)\n",
    "print(\"list1 : \",list1)"
   ]
  },
  {
   "cell_type": "code",
   "execution_count": 109,
   "metadata": {},
   "outputs": [
    {
     "name": "stdout",
     "output_type": "stream",
     "text": [
      "list1 :  [10, 24, 35, 1, 2, 3, 4, 4]\n"
     ]
    }
   ],
   "source": [
    "# Removing Items from a list\n",
    "list1.remove(4)\n",
    "print(\"list1 : \",list1)"
   ]
  },
  {
   "cell_type": "code",
   "execution_count": 110,
   "metadata": {},
   "outputs": [
    {
     "name": "stdout",
     "output_type": "stream",
     "text": [
      "list1 :  [10, 24, 35, 1, 3, 4, 4]\n"
     ]
    }
   ],
   "source": [
    "# Popping Items from a List\n",
    "list1.pop(4)\n",
    "print(\"list1 : \",list1)"
   ]
  },
  {
   "cell_type": "code",
   "execution_count": 111,
   "metadata": {},
   "outputs": [
    {
     "name": "stdout",
     "output_type": "stream",
     "text": [
      "Sorted list1 :  [1, 3, 4, 4, 10, 24, 35]\n"
     ]
    }
   ],
   "source": [
    "# Sorting Items of a List\n",
    "list1.sort()\n",
    "print(\"Sorted list1 : \",list1)"
   ]
  },
  {
   "cell_type": "code",
   "execution_count": 112,
   "metadata": {},
   "outputs": [
    {
     "name": "stdout",
     "output_type": "stream",
     "text": [
      "reversed list 1 :  [35, 24, 10, 4, 4, 3, 1]\n"
     ]
    }
   ],
   "source": [
    "# Reversing a List Items on the basis of their Indices\n",
    "list1.reverse()\n",
    "print(\"reversed list 1 : \",list1)"
   ]
  },
  {
   "cell_type": "code",
   "execution_count": 113,
   "metadata": {},
   "outputs": [
    {
     "name": "stdout",
     "output_type": "stream",
     "text": [
      "inserted list1 :  [35, 335, 24, 10, 4, 4, 3, 1]\n",
      "inserted list2 :  ['a', 'c', [335, 653, 'sd'], 'd', 9800.0]\n"
     ]
    }
   ],
   "source": [
    "# Inserting Item at an particular index in a list\n",
    "list1.insert(1,335)\n",
    "print(\"inserted list1 : \",list1)\n",
    "list2.insert(2, [335,653,\"sd\"])\n",
    "print(\"inserted list2 : \",list2)"
   ]
  },
  {
   "cell_type": "code",
   "execution_count": null,
   "metadata": {
    "collapsed": true
   },
   "outputs": [],
   "source": []
  },
  {
   "cell_type": "code",
   "execution_count": null,
   "metadata": {
    "collapsed": true
   },
   "outputs": [],
   "source": []
  }
 ],
 "metadata": {
  "kernelspec": {
   "display_name": "Python 3",
   "language": "python",
   "name": "python3"
  },
  "language_info": {
   "codemirror_mode": {
    "name": "ipython",
    "version": 3
   },
   "file_extension": ".py",
   "mimetype": "text/x-python",
   "name": "python",
   "nbconvert_exporter": "python",
   "pygments_lexer": "ipython3",
   "version": "3.6.2"
  }
 },
 "nbformat": 4,
 "nbformat_minor": 2
}
