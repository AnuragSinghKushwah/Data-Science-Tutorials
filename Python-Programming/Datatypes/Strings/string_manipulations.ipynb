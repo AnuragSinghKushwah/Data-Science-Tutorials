{
 "cells": [
  {
   "cell_type": "code",
   "execution_count": 43,
   "metadata": {},
   "outputs": [
    {
     "name": "stdout",
     "output_type": "stream",
     "text": [
      "\n",
      " Hello All, My Name is /xa0 Some one <br> You can contact me on 9876543210 or mail me at someone@example.com \n",
      "\n"
     ]
    }
   ],
   "source": [
    "str1 = \"\\n Hello All, My Name is /xa0 Some one <br> You can contact me on 9876543210 or mail me at someone@example.com \\n\"\n",
    "print(str1)"
   ]
  },
  {
   "cell_type": "code",
   "execution_count": 44,
   "metadata": {},
   "outputs": [
    {
     "name": "stdout",
     "output_type": "stream",
     "text": [
      "Hello All, My Name is /xa0 Some one <br> You can contact me on 9876543210 or mail me at someone@example.com\n"
     ]
    }
   ],
   "source": [
    "# Using Strip Function to remove front and trailing Extra Spaces\n",
    "str1 = str1.strip()\n",
    "print(str1)"
   ]
  },
  {
   "cell_type": "code",
   "execution_count": 45,
   "metadata": {},
   "outputs": [
    {
     "name": "stdout",
     "output_type": "stream",
     "text": [
      "Hello All, My Name is  Some one <br> You can contact me on 9876543210 or mail me at someone@example.com\n"
     ]
    }
   ],
   "source": [
    "# Using Replace Function to Remove Unwanted Characters\n",
    "str1 = str1.replace(\"/xa0\",\"\")\n",
    "print(str1)"
   ]
  },
  {
   "cell_type": "code",
   "execution_count": 46,
   "metadata": {},
   "outputs": [
    {
     "name": "stdout",
     "output_type": "stream",
     "text": [
      "['Hello All, My Name is  Some one ', ' You can contact me on 9876543210 or mail me at someone@example.com']\n"
     ]
    }
   ],
   "source": [
    "# Using Split Function for Splitting String in to tokens\n",
    "list1 = str1.split('<br>')\n",
    "print(list1)"
   ]
  },
  {
   "cell_type": "code",
   "execution_count": 47,
   "metadata": {},
   "outputs": [
    {
     "name": "stdout",
     "output_type": "stream",
     "text": [
      "Name :  Some one\n"
     ]
    }
   ],
   "source": [
    "# Finding Name from the Splitted List\n",
    "name = list1[0].split('is')[-1].strip() \n",
    "# Steps : \n",
    "# Taking First Token from List\n",
    "# Splitting with \"is\", \n",
    "# Taking last token\n",
    "# Stripping for removing Extra Spaces\n",
    "\n",
    "print(\"Name : \",name)"
   ]
  },
  {
   "cell_type": "code",
   "execution_count": 48,
   "metadata": {},
   "outputs": [
    {
     "name": "stdout",
     "output_type": "stream",
     "text": [
      "Phone :  9876543210\n"
     ]
    }
   ],
   "source": [
    "# Finding Phone from the Splitted List\n",
    "phone = list1[1].split('or')[0].split()[-1]\n",
    "# Steps : \n",
    "# Taking Token with index \"1\" from List\n",
    "# Splitting with \"or\", \n",
    "# Selecting First token\n",
    "# Splitting with spaces and selecting last token\n",
    "print(\"Phone : \",phone)"
   ]
  },
  {
   "cell_type": "code",
   "execution_count": 33,
   "metadata": {},
   "outputs": [
    {
     "name": "stdout",
     "output_type": "stream",
     "text": [
      "Email :  anurag@techrefic.com\n"
     ]
    }
   ],
   "source": [
    "email = list1[1].split('or')[1].split()[-1]\n",
    "# Steps : \n",
    "# Taking Token with index \"1\" from List\n",
    "# Splitting with \"or\", \n",
    "# Selecting Token with index \"1\" \n",
    "# Splitting with spaces and selecting last token\n",
    "print(\"Email : \",email)"
   ]
  },
  {
   "cell_type": "code",
   "execution_count": null,
   "metadata": {
    "collapsed": true
   },
   "outputs": [],
   "source": []
  }
 ],
 "metadata": {
  "kernelspec": {
   "display_name": "Python 3",
   "language": "python",
   "name": "python3"
  },
  "language_info": {
   "codemirror_mode": {
    "name": "ipython",
    "version": 3
   },
   "file_extension": ".py",
   "mimetype": "text/x-python",
   "name": "python",
   "nbconvert_exporter": "python",
   "pygments_lexer": "ipython3",
   "version": "3.6.2"
  }
 },
 "nbformat": 4,
 "nbformat_minor": 1
}
