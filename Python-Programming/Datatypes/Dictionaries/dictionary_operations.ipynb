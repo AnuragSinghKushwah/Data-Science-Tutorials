{
 "cells": [
  {
   "cell_type": "code",
   "execution_count": 10,
   "metadata": {},
   "outputs": [
    {
     "name": "stdout",
     "output_type": "stream",
     "text": [
      "dict1 :  {}\n"
     ]
    }
   ],
   "source": [
    "# Creating an Empty Dictionary\n",
    "dict1 = {}\n",
    "print(\"dict1 : \",dict1)"
   ]
  },
  {
   "cell_type": "code",
   "execution_count": 11,
   "metadata": {},
   "outputs": [
    {
     "name": "stdout",
     "output_type": "stream",
     "text": [
      "dict2 :  {'name': 'John', 'surname': 'Doe', 'salary': 10000, 'age': 25, 'address': {'city': 'Texas', 'state': 'Dallas'}}\n"
     ]
    }
   ],
   "source": [
    "# Creating a dictionary having some values\n",
    "dict2 = {\"name\":\"John\",\"surname\":\"Doe\",\"salary\":10000,\"age\":25,\"address\":{\"city\":\"Texas\",\"state\":\"Dallas\"}}\n",
    "print(\"dict2 : \",dict2)"
   ]
  },
  {
   "cell_type": "code",
   "execution_count": 12,
   "metadata": {},
   "outputs": [
    {
     "name": "stdout",
     "output_type": "stream",
     "text": [
      "dict1 :  {'name': 'Paul', 'surname': 'Walker'}\n"
     ]
    }
   ],
   "source": [
    "# Adding new key and value to a dictionary\n",
    "dict1[\"name\"]=\"Paul\"\n",
    "dict1[\"surname\"]=\"Walker\"\n",
    "print(\"dict1 : \",dict1)"
   ]
  },
  {
   "cell_type": "code",
   "execution_count": 13,
   "metadata": {},
   "outputs": [
    {
     "name": "stdout",
     "output_type": "stream",
     "text": [
      "dict1 Name :  Paul\n",
      "dict2 Address :  {'city': 'Texas', 'state': 'Dallas'}\n"
     ]
    }
   ],
   "source": [
    "# Accessing Values from a dictionary\n",
    "print(\"dict1 Name : \",dict1[\"name\"])\n",
    "print(\"dict2 Address : \",dict2['address'])"
   ]
  },
  {
   "cell_type": "code",
   "execution_count": 14,
   "metadata": {},
   "outputs": [
    {
     "name": "stdout",
     "output_type": "stream",
     "text": [
      "dict2 :  {'name': 'Peter', 'surname': 'Parker', 'salary': 10000, 'age': 25, 'address': {'city': 'Texas', 'state': 'Dallas'}}\n"
     ]
    }
   ],
   "source": [
    "# Updating Values of a dictionary\n",
    "dict2[\"name\"]=\"Peter\"\n",
    "dict2[\"surname\"]=\"Parker\"\n",
    "print(\"dict2 : \",dict2)"
   ]
  },
  {
   "cell_type": "code",
   "execution_count": 15,
   "metadata": {},
   "outputs": [
    {
     "name": "stdout",
     "output_type": "stream",
     "text": [
      "dict2 :  {'name': 'Peter', 'surname': 'Parker', 'age': 25, 'address': {'city': 'Texas', 'state': 'Dallas'}}\n"
     ]
    }
   ],
   "source": [
    "# Deleting key from a dictionary\n",
    "del dict2[\"salary\"]\n",
    "print(\"dict2 : \",dict2)"
   ]
  },
  {
   "cell_type": "code",
   "execution_count": 16,
   "metadata": {},
   "outputs": [
    {
     "name": "stdout",
     "output_type": "stream",
     "text": [
      "dict1 :  {}\n"
     ]
    }
   ],
   "source": [
    "# Deleting all keys and values from dictionary\n",
    "dict1.clear()\n",
    "print(\"dict1 : \",dict1)"
   ]
  },
  {
   "cell_type": "code",
   "execution_count": 17,
   "metadata": {},
   "outputs": [
    {
     "ename": "NameError",
     "evalue": "name 'dict1' is not defined",
     "output_type": "error",
     "traceback": [
      "\u001b[1;31m---------------------------------------------------------------------------\u001b[0m",
      "\u001b[1;31mNameError\u001b[0m                                 Traceback (most recent call last)",
      "\u001b[1;32m<ipython-input-17-a37ef3353bad>\u001b[0m in \u001b[0;36m<module>\u001b[1;34m()\u001b[0m\n\u001b[0;32m      1\u001b[0m \u001b[1;31m# Completing Deleting a dictionary\u001b[0m\u001b[1;33m\u001b[0m\u001b[1;33m\u001b[0m\u001b[0m\n\u001b[0;32m      2\u001b[0m \u001b[1;32mdel\u001b[0m \u001b[0mdict1\u001b[0m\u001b[1;33m\u001b[0m\u001b[0m\n\u001b[1;32m----> 3\u001b[1;33m \u001b[0mprint\u001b[0m\u001b[1;33m(\u001b[0m\u001b[1;34m\"dict1 : \"\u001b[0m\u001b[1;33m,\u001b[0m\u001b[0mdict1\u001b[0m\u001b[1;33m)\u001b[0m \u001b[1;31m#it will throw error as dict1 is already deleted\u001b[0m\u001b[1;33m\u001b[0m\u001b[0m\n\u001b[0m",
      "\u001b[1;31mNameError\u001b[0m: name 'dict1' is not defined"
     ]
    }
   ],
   "source": [
    "# Completing Deleting a dictionary\n",
    "del dict1\n",
    "print(\"dict1 : \",dict1) #it will throw error as dict1 is already deleted"
   ]
  },
  {
   "cell_type": "code",
   "execution_count": 18,
   "metadata": {},
   "outputs": [
    {
     "name": "stdout",
     "output_type": "stream",
     "text": [
      "length of dict2 :  4\n"
     ]
    }
   ],
   "source": [
    "# Find Length of the dictionary\n",
    "print(\"length of dict2 : \",len(dict2))"
   ]
  },
  {
   "cell_type": "code",
   "execution_count": 20,
   "metadata": {},
   "outputs": [
    {
     "name": "stdout",
     "output_type": "stream",
     "text": [
      "{'name': 'Peter', 'surname': 'Parker', 'age': 25, 'address': {'city': 'Texas', 'state': 'Dallas'}}\n"
     ]
    }
   ],
   "source": [
    "# Convert Dictionary to string\n",
    "print(str(dict2))"
   ]
  },
  {
   "cell_type": "code",
   "execution_count": 21,
   "metadata": {},
   "outputs": [
    {
     "name": "stdout",
     "output_type": "stream",
     "text": [
      "dict2 Keys :  dict_keys(['name', 'surname', 'age', 'address'])\n",
      "dict2 Values :  dict_values(['Peter', 'Parker', 25, {'city': 'Texas', 'state': 'Dallas'}])\n"
     ]
    }
   ],
   "source": [
    "# Get dictionaries all keys\n",
    "print(\"dict2 Keys : \",dict2.keys())\n",
    "print(\"dict2 Values : \",dict2.values())"
   ]
  },
  {
   "cell_type": "code",
   "execution_count": 23,
   "metadata": {},
   "outputs": [
    {
     "name": "stdout",
     "output_type": "stream",
     "text": [
      "dict_items([('name', 'Peter'), ('surname', 'Parker'), ('age', 25), ('address', {'city': 'Texas', 'state': 'Dallas'})])\n"
     ]
    }
   ],
   "source": [
    "# Getting all dictionary key values as a zipped items\n",
    "print(dict2.items())"
   ]
  },
  {
   "cell_type": "code",
   "execution_count": 24,
   "metadata": {},
   "outputs": [
    {
     "name": "stdout",
     "output_type": "stream",
     "text": [
      "updated dict2 :  {'name': 'Peter', 'surname': 'Parker', 'age': 25, 'address': {'city': 'Texas', 'state': 'Dallas'}, 'height': 182.03, 'weight': '276lbs'}\n"
     ]
    }
   ],
   "source": [
    "# Adding Two Dictionaries \n",
    "new_dict = {\"height\":182.03,\"weight\":\"276lbs\"}\n",
    "dict2.update(new_dict)\n",
    "print(\"updated dict2 : \",dict2)"
   ]
  },
  {
   "cell_type": "code",
   "execution_count": 28,
   "metadata": {},
   "outputs": [
    {
     "name": "stdout",
     "output_type": "stream",
     "text": [
      "subset dict2 :  {'name': None, 'age': None}\n"
     ]
    }
   ],
   "source": [
    "# Make a new dictionary from subset of dictionaries\n",
    "sub_dict2 = dict2.fromkeys((\"name\",\"age\"))\n",
    "print(\"subset dict2 : \",sub_dict2)"
   ]
  },
  {
   "cell_type": "code",
   "execution_count": null,
   "metadata": {
    "collapsed": true
   },
   "outputs": [],
   "source": []
  }
 ],
 "metadata": {
  "kernelspec": {
   "display_name": "Python 3",
   "language": "python",
   "name": "python3"
  },
  "language_info": {
   "codemirror_mode": {
    "name": "ipython",
    "version": 3
   },
   "file_extension": ".py",
   "mimetype": "text/x-python",
   "name": "python",
   "nbconvert_exporter": "python",
   "pygments_lexer": "ipython3",
   "version": "3.6.2"
  }
 },
 "nbformat": 4,
 "nbformat_minor": 2
}
